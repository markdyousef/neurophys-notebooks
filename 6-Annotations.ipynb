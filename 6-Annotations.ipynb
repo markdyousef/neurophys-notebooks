{
 "cells": [
  {
   "cell_type": "code",
   "execution_count": 1,
   "metadata": {},
   "outputs": [],
   "source": [
    "import os\n",
    "from datetime import datetime\n",
    "import mne\n",
    "\n",
    "%matplotlib widget"
   ]
  },
  {
   "cell_type": "code",
   "execution_count": 2,
   "metadata": {},
   "outputs": [],
   "source": [
    "sample_data_folder = mne.datasets.sample.data_path()\n",
    "sample_data_raw_file = os.path.join(sample_data_folder, 'MEG', 'sample', 'sample_audvis_raw.fif')"
   ]
  },
  {
   "cell_type": "code",
   "execution_count": 3,
   "metadata": {},
   "outputs": [
    {
     "data": {
      "text/plain": [
       "<Raw  |  sample_audvis_raw.fif, n_channels x n_times : 376 x 36038 (60.0 sec), ~107.0 MB, data loaded>"
      ]
     },
     "execution_count": 3,
     "metadata": {},
     "output_type": "execute_result"
    }
   ],
   "source": [
    "raw = mne.io.read_raw_fif(sample_data_raw_file, verbose=False)\n",
    "raw.crop(tmax=60).load_data()"
   ]
  },
  {
   "cell_type": "markdown",
   "metadata": {},
   "source": [
    "### Creating annotations programatically"
   ]
  },
  {
   "cell_type": "code",
   "execution_count": 4,
   "metadata": {},
   "outputs": [],
   "source": [
    "my_annot = mne.Annotations(onset=[3, 5, 7], duration=[1, 0.5, 0.25], description=['AAA', 'BBB', 'CCC'])"
   ]
  },
  {
   "cell_type": "code",
   "execution_count": 5,
   "metadata": {},
   "outputs": [
    {
     "name": "stdout",
     "output_type": "stream",
     "text": [
      "<Annotations  |  3 segments : AAA (1), BBB (1), CCC (1), orig_time : 2002-12-03 19:01:10.720100>\n"
     ]
    }
   ],
   "source": [
    "raw.set_annotations(my_annot)\n",
    "print(raw.annotations)"
   ]
  },
  {
   "cell_type": "code",
   "execution_count": 6,
   "metadata": {},
   "outputs": [],
   "source": [
    "# convert meas_date (a tuple of seconds, microseconds) into a float:\n",
    "meas_date = raw.info['meas_date'][0] + raw.info['meas_date'][1] / 1e6\n",
    "orig_time = raw.annotations.orig_time"
   ]
  },
  {
   "cell_type": "code",
   "execution_count": 9,
   "metadata": {},
   "outputs": [],
   "source": [
    "assert meas_date == orig_time"
   ]
  },
  {
   "cell_type": "code",
   "execution_count": 10,
   "metadata": {},
   "outputs": [
    {
     "name": "stdout",
     "output_type": "stream",
     "text": [
      "[45.95597083 47.95597083 49.95597083]\n"
     ]
    }
   ],
   "source": [
    "time_of_first_sample = raw.first_samp / raw.info['sfreq']\n",
    "\n",
    "print(my_annot.onset + time_of_first_sample)"
   ]
  },
  {
   "cell_type": "code",
   "execution_count": 11,
   "metadata": {},
   "outputs": [
    {
     "name": "stdout",
     "output_type": "stream",
     "text": [
      "[45.95597088 47.95597088 49.95597088]\n"
     ]
    }
   ],
   "source": [
    "print(raw.annotations.onset)"
   ]
  },
  {
   "cell_type": "code",
   "execution_count": 12,
   "metadata": {},
   "outputs": [
    {
     "name": "stdout",
     "output_type": "stream",
     "text": [
      "2002-12-03 19:02:00.720100\n"
     ]
    }
   ],
   "source": [
    "time_format = '%Y-%m-%d %H:%M:%S.%f'\n",
    "new_orig_time = datetime.utcfromtimestamp(meas_date + 50).strftime(time_format)\n",
    "print(new_orig_time)"
   ]
  },
  {
   "cell_type": "code",
   "execution_count": 13,
   "metadata": {},
   "outputs": [],
   "source": [
    "later_annot = mne.Annotations(onset=[3, 5, 7], duration=[1, 0.5, 0.25], description=['DDD', 'EEE', 'FFF'], orig_time=new_orig_time)"
   ]
  },
  {
   "cell_type": "code",
   "execution_count": 14,
   "metadata": {},
   "outputs": [
    {
     "name": "stdout",
     "output_type": "stream",
     "text": [
      "[3. 5. 7.]\n",
      "[53. 55. 57.]\n"
     ]
    }
   ],
   "source": [
    "raw2 = raw.copy().set_annotations(later_annot)\n",
    "print(later_annot.onset)\n",
    "print(raw2.annotations.onset)"
   ]
  },
  {
   "cell_type": "code",
   "execution_count": 16,
   "metadata": {},
   "outputs": [
    {
     "data": {
      "application/vnd.jupyter.widget-view+json": {
       "model_id": "1548c9c434824c1eba4cbd54aad8866d",
       "version_major": 2,
       "version_minor": 0
      },
      "text/plain": [
       "Canvas(toolbar=Toolbar(toolitems=[('Home', 'Reset original view', 'home', 'home'), ('Back', 'Back to previous …"
      ]
     },
     "metadata": {},
     "output_type": "display_data"
    }
   ],
   "source": [
    "fig = raw.plot(start=2, duration=6);"
   ]
  },
  {
   "cell_type": "code",
   "execution_count": 17,
   "metadata": {},
   "outputs": [
    {
     "data": {
      "application/vnd.jupyter.widget-view+json": {
       "model_id": "612f8af190554d34a8d90950bca1e22d",
       "version_major": 2,
       "version_minor": 0
      },
      "text/plain": [
       "Canvas(toolbar=Toolbar(toolitems=[('Home', 'Reset original view', 'home', 'home'), ('Back', 'Back to previous …"
      ]
     },
     "metadata": {},
     "output_type": "display_data"
    }
   ],
   "source": [
    "fig2 = raw2.plot(start=2, duration=6);"
   ]
  },
  {
   "cell_type": "markdown",
   "metadata": {},
   "source": [
    "### Annotating Raw objects interactively"
   ]
  },
  {
   "cell_type": "code",
   "execution_count": 24,
   "metadata": {},
   "outputs": [
    {
     "data": {
      "application/vnd.jupyter.widget-view+json": {
       "model_id": "5651a22a381e414eb5709221ea9c18ff",
       "version_major": 2,
       "version_minor": 0
      },
      "text/plain": [
       "Canvas(toolbar=Toolbar(toolitems=[('Home', 'Reset original view', 'home', 'home'), ('Back', 'Back to previous …"
      ]
     },
     "metadata": {},
     "output_type": "display_data"
    }
   ],
   "source": [
    "fig.canvas.key_press_event('a')"
   ]
  },
  {
   "cell_type": "markdown",
   "metadata": {},
   "source": [
    "### Operations on Annotations objects"
   ]
  },
  {
   "cell_type": "code",
   "execution_count": 26,
   "metadata": {},
   "outputs": [
    {
     "data": {
      "application/vnd.jupyter.widget-view+json": {
       "model_id": "8e66e313295148598141845817a3ed00",
       "version_major": 2,
       "version_minor": 0
      },
      "text/plain": [
       "Canvas(toolbar=Toolbar(toolitems=[('Home', 'Reset original view', 'home', 'home'), ('Back', 'Back to previous …"
      ]
     },
     "metadata": {},
     "output_type": "display_data"
    }
   ],
   "source": [
    "new_annot = mne.Annotations(onset=3.75, duration=0.75, description='AAA')\n",
    "raw.set_annotations(my_annot + new_annot)\n",
    "raw.plot(start=2, duration=6);"
   ]
  },
  {
   "cell_type": "code",
   "execution_count": 27,
   "metadata": {},
   "outputs": [
    {
     "name": "stdout",
     "output_type": "stream",
     "text": [
      "OrderedDict([('onset', 45.955970883369446), ('duration', 1.0), ('description', 'AAA'), ('orig_time', 1038942070.7201)])\n"
     ]
    }
   ],
   "source": [
    "print(raw.annotations[0])"
   ]
  },
  {
   "cell_type": "code",
   "execution_count": 28,
   "metadata": {},
   "outputs": [
    {
     "name": "stdout",
     "output_type": "stream",
     "text": [
      "<Annotations  |  2 segments : AAA (2), orig_time : 2002-12-03 19:01:10.720100>\n"
     ]
    }
   ],
   "source": [
    "print(raw.annotations[:2])"
   ]
  },
  {
   "cell_type": "code",
   "execution_count": 29,
   "metadata": {},
   "outputs": [
    {
     "name": "stdout",
     "output_type": "stream",
     "text": [
      "<Annotations  |  2 segments : BBB (1), CCC (1), orig_time : 2002-12-03 19:01:10.720100>\n"
     ]
    }
   ],
   "source": [
    "print(raw.annotations[(3, 2)])"
   ]
  },
  {
   "cell_type": "code",
   "execution_count": 31,
   "metadata": {},
   "outputs": [
    {
     "name": "stdout",
     "output_type": "stream",
     "text": [
      "'AAA' goes from 45.955970883369446 to 46.955970883369446\n",
      "'AAA' goes from 46.705970883369446 to 47.455970883369446\n",
      "'BBB' goes from 47.955970883369446 to 48.455970883369446\n",
      "'CCC' goes from 49.955970883369446 to 50.205970883369446\n"
     ]
    }
   ],
   "source": [
    "for ann in raw.annotations:\n",
    "    desc = ann['description']\n",
    "    start = ann['onset']\n",
    "    end = ann['onset'] + ann['duration']\n",
    "    print(\"'{}' goes from {} to {}\".format(desc, start, end))"
   ]
  },
  {
   "cell_type": "code",
   "execution_count": 32,
   "metadata": {},
   "outputs": [],
   "source": [
    "# later_annot will be changed, because we're modifying the first element of later_annot.onset directly:\n",
    "later_annot.onset[0] = 99"
   ]
  },
  {
   "cell_type": "code",
   "execution_count": 33,
   "metadata": {},
   "outputs": [],
   "source": [
    "# later_annot will not be changed, because later_annot[0] returns a copy before the 'onset' field is changed\n",
    "later_annot[0]['onset'] = 77"
   ]
  },
  {
   "cell_type": "code",
   "execution_count": 34,
   "metadata": {},
   "outputs": [
    {
     "data": {
      "text/plain": [
       "99.0"
      ]
     },
     "execution_count": 34,
     "metadata": {},
     "output_type": "execute_result"
    }
   ],
   "source": [
    "later_annot[0]['onset']"
   ]
  },
  {
   "cell_type": "code",
   "execution_count": null,
   "metadata": {},
   "outputs": [],
   "source": []
  }
 ],
 "metadata": {
  "kernelspec": {
   "display_name": "Python 3",
   "language": "python",
   "name": "python3"
  },
  "language_info": {
   "codemirror_mode": {
    "name": "ipython",
    "version": 3
   },
   "file_extension": ".py",
   "mimetype": "text/x-python",
   "name": "python",
   "nbconvert_exporter": "python",
   "pygments_lexer": "ipython3",
   "version": "3.7.4"
  }
 },
 "nbformat": 4,
 "nbformat_minor": 4
}
