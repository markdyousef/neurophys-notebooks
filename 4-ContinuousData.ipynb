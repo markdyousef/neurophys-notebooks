{
 "cells": [
  {
   "cell_type": "code",
   "execution_count": 30,
   "metadata": {},
   "outputs": [],
   "source": [
    "import os\n",
    "import numpy as np\n",
    "import matplotlib.pyplot as plt\n",
    "import mne"
   ]
  },
  {
   "cell_type": "code",
   "execution_count": 31,
   "metadata": {},
   "outputs": [],
   "source": [
    "sample_data_folder = mne.datasets.sample.data_path()\n",
    "sample_data_raw_file = os.path.join(sample_data_folder, 'MEG', 'sample', 'sample_audvis_raw.fif')"
   ]
  },
  {
   "cell_type": "code",
   "execution_count": 32,
   "metadata": {},
   "outputs": [
    {
     "name": "stdout",
     "output_type": "stream",
     "text": [
      "Opening raw data file /Users/markyousef/mne_data/MNE-sample-data/MEG/sample/sample_audvis_raw.fif...\n",
      "    Read a total of 3 projection items:\n",
      "        PCA-v1 (1 x 102)  idle\n",
      "        PCA-v2 (1 x 102)  idle\n",
      "        PCA-v3 (1 x 102)  idle\n",
      "    Range : 25800 ... 192599 =     42.956 ...   320.670 secs\n",
      "Ready.\n",
      "Current compensation grade : 0\n"
     ]
    }
   ],
   "source": [
    "raw = mne.io.read_raw_fif(sample_data_raw_file)"
   ]
  },
  {
   "cell_type": "code",
   "execution_count": 33,
   "metadata": {},
   "outputs": [
    {
     "name": "stdout",
     "output_type": "stream",
     "text": [
      "<Raw  |  sample_audvis_raw.fif, n_channels x n_times : 376 x 166800 (277.7 sec), ~3.7 MB, data not loaded>\n"
     ]
    }
   ],
   "source": [
    "print(raw)"
   ]
  },
  {
   "cell_type": "code",
   "execution_count": 34,
   "metadata": {},
   "outputs": [
    {
     "name": "stdout",
     "output_type": "stream",
     "text": [
      "Reading 0 ... 36037  =      0.000 ...    60.000 secs...\n"
     ]
    },
    {
     "data": {
      "text/plain": [
       "<Raw  |  sample_audvis_raw.fif, n_channels x n_times : 376 x 36038 (60.0 sec), ~107.0 MB, data loaded>"
      ]
     },
     "execution_count": 34,
     "metadata": {},
     "output_type": "execute_result"
    }
   ],
   "source": [
    "raw.crop(tmax=60).load_data()"
   ]
  },
  {
   "cell_type": "code",
   "execution_count": 35,
   "metadata": {},
   "outputs": [],
   "source": [
    "n_time_samps = raw.n_times\n",
    "time_secs = raw.times\n",
    "ch_names = raw.ch_names\n",
    "n_channels = len(ch_names)"
   ]
  },
  {
   "cell_type": "code",
   "execution_count": 36,
   "metadata": {},
   "outputs": [
    {
     "name": "stdout",
     "output_type": "stream",
     "text": [
      "The (cropped) sample data object has 36038 time samples and 376 channels.\n"
     ]
    }
   ],
   "source": [
    "print('The (cropped) sample data object has {} time samples and {} channels.'.format(n_time_samps, n_channels))"
   ]
  },
  {
   "cell_type": "code",
   "execution_count": 37,
   "metadata": {},
   "outputs": [
    {
     "name": "stdout",
     "output_type": "stream",
     "text": [
      "The last time sample is at 60.000167471573526 seconds\n"
     ]
    }
   ],
   "source": [
    "print('The last time sample is at {} seconds'.format(time_secs[-1]))"
   ]
  },
  {
   "cell_type": "code",
   "execution_count": 38,
   "metadata": {},
   "outputs": [
    {
     "name": "stdout",
     "output_type": "stream",
     "text": [
      "The first few channel names are MEG 0113, MEG 0112, MEG 0111\n"
     ]
    }
   ],
   "source": [
    "print('The first few channel names are {}'.format(', '.join(ch_names[:3])))"
   ]
  },
  {
   "cell_type": "code",
   "execution_count": 39,
   "metadata": {},
   "outputs": [
    {
     "name": "stdout",
     "output_type": "stream",
     "text": [
      "Bad channels:  ['MEG 2443', 'EEG 053']\n"
     ]
    }
   ],
   "source": [
    "print('Bad channels: ', raw.info['bads'])"
   ]
  },
  {
   "cell_type": "code",
   "execution_count": 40,
   "metadata": {},
   "outputs": [
    {
     "name": "stdout",
     "output_type": "stream",
     "text": [
      "600.614990234375 Hz\n"
     ]
    }
   ],
   "source": [
    "print(raw.info['sfreq'], 'Hz')"
   ]
  },
  {
   "cell_type": "code",
   "execution_count": 41,
   "metadata": {},
   "outputs": [
    {
     "name": "stdout",
     "output_type": "stream",
     "text": [
      "acquisition (megacq) VectorView system at NMR-MGH \n",
      "\n"
     ]
    }
   ],
   "source": [
    "print(raw.info['description'], '\\n')"
   ]
  },
  {
   "cell_type": "code",
   "execution_count": 42,
   "metadata": {},
   "outputs": [
    {
     "data": {
      "text/plain": [
       "<Info | 24 non-empty fields\n",
       "    acq_pars : str | 13886 items\n",
       "    bads : list | MEG 2443, EEG 053\n",
       "    ch_names : list | MEG 0113, MEG 0112, MEG 0111, MEG 0122, MEG 0123, ...\n",
       "    chs : list | 376 items (GRAD: 204, MAG: 102, STIM: 9, EEG: 60, EOG: 1)\n",
       "    comps : list | 0 items\n",
       "    custom_ref_applied : bool | False\n",
       "    description : str | 49 items\n",
       "    dev_head_t : Transform | 3 items\n",
       "    dig : list | 146 items (3 Cardinal, 4 HPI, 61 EEG, 78 Extra)\n",
       "    events : list | 1 items\n",
       "    experimenter : str | 3 items\n",
       "    file_id : dict | 4 items\n",
       "    highpass : float | 0.10000000149011612 Hz\n",
       "    hpi_meas : list | 1 items\n",
       "    hpi_results : list | 1 items\n",
       "    lowpass : float | 172.17630004882812 Hz\n",
       "    meas_date : tuple | 2002-12-03 19:01:10 GMT\n",
       "    meas_id : dict | 4 items\n",
       "    nchan : int | 376\n",
       "    proc_history : list | 0 items\n",
       "    proj_id : ndarray | 1 items\n",
       "    proj_name : str | 4 items\n",
       "    projs : list | PCA-v1: off, PCA-v2: off, PCA-v3: off\n",
       "    sfreq : float | 600.614990234375 Hz\n",
       "    acq_stim : NoneType\n",
       "    ctf_head_t : NoneType\n",
       "    dev_ctf_t : NoneType\n",
       "    gantry_angle : NoneType\n",
       "    hpi_subsystem : NoneType\n",
       "    kit_system_id : NoneType\n",
       "    line_freq : NoneType\n",
       "    subject_info : NoneType\n",
       "    xplotter_layout : NoneType\n",
       ">"
      ]
     },
     "execution_count": 42,
     "metadata": {},
     "output_type": "execute_result"
    }
   ],
   "source": [
    "raw.info"
   ]
  },
  {
   "cell_type": "code",
   "execution_count": 43,
   "metadata": {},
   "outputs": [
    {
     "data": {
      "text/plain": [
       "array([12012])"
      ]
     },
     "execution_count": 43,
     "metadata": {},
     "output_type": "execute_result"
    }
   ],
   "source": [
    "raw.time_as_index(20)"
   ]
  },
  {
   "cell_type": "code",
   "execution_count": 44,
   "metadata": {},
   "outputs": [
    {
     "data": {
      "text/plain": [
       "array([12012, 18018, 24024])"
      ]
     },
     "execution_count": 44,
     "metadata": {},
     "output_type": "execute_result"
    }
   ],
   "source": [
    "raw.time_as_index([20, 30, 40])"
   ]
  },
  {
   "cell_type": "code",
   "execution_count": 45,
   "metadata": {},
   "outputs": [
    {
     "data": {
      "text/plain": [
       "array([601, 600])"
      ]
     },
     "execution_count": 45,
     "metadata": {},
     "output_type": "execute_result"
    }
   ],
   "source": [
    "np.diff(raw.time_as_index([1, 2, 3]))"
   ]
  },
  {
   "cell_type": "markdown",
   "metadata": {},
   "source": [
    "### Selecting, dropping, and reordering channels"
   ]
  },
  {
   "cell_type": "code",
   "execution_count": 46,
   "metadata": {},
   "outputs": [],
   "source": [
    "eeg_and_eog = raw.copy().pick_types(meg=False, eeg=True, eog=True)"
   ]
  },
  {
   "cell_type": "code",
   "execution_count": 47,
   "metadata": {},
   "outputs": [
    {
     "name": "stdout",
     "output_type": "stream",
     "text": [
      "376 => 60\n"
     ]
    }
   ],
   "source": [
    "print(len(raw.ch_names), '=>', len(eeg_and_eog.ch_names))"
   ]
  },
  {
   "cell_type": "code",
   "execution_count": 51,
   "metadata": {},
   "outputs": [],
   "source": [
    "raw_tmp = raw.copy()"
   ]
  },
  {
   "cell_type": "code",
   "execution_count": 52,
   "metadata": {},
   "outputs": [
    {
     "name": "stdout",
     "output_type": "stream",
     "text": [
      "Number of channels in raw_temp:\n",
      "376=> drop two =>374=> pick three => 3\n"
     ]
    }
   ],
   "source": [
    "print('Number of channels in raw_temp:')\n",
    "print(len(raw_tmp.ch_names), end='=> drop two =>')\n",
    "raw_tmp.drop_channels(['EEG 037', 'EEG 059'])\n",
    "print(len(raw_tmp.ch_names), end='=> pick three => ')\n",
    "raw_tmp.pick_channels(['MEG 1811', 'EEG 017', 'EOG 061'])\n",
    "print(len(raw_tmp.ch_names))"
   ]
  },
  {
   "cell_type": "code",
   "execution_count": 54,
   "metadata": {},
   "outputs": [
    {
     "name": "stdout",
     "output_type": "stream",
     "text": [
      "['EOG 061', 'EEG 003', 'EEG 002', 'EEG 001']\n"
     ]
    }
   ],
   "source": [
    "channel_names = ['EOG 061', 'EEG 003', 'EEG 002', 'EEG 001']\n",
    "eog_and_frontal_eeg = raw.copy().reorder_channels(channel_names)\n",
    "print(eog_and_frontal_eeg.ch_names)"
   ]
  },
  {
   "cell_type": "markdown",
   "metadata": {},
   "source": [
    "### Changing channel name and type"
   ]
  },
  {
   "cell_type": "code",
   "execution_count": 55,
   "metadata": {},
   "outputs": [],
   "source": [
    "raw.rename_channels({'EOG 061': 'blink detector'})"
   ]
  },
  {
   "cell_type": "code",
   "execution_count": 56,
   "metadata": {},
   "outputs": [
    {
     "name": "stdout",
     "output_type": "stream",
     "text": [
      "['EEG 059', 'EEG 060', 'blink detector']\n"
     ]
    }
   ],
   "source": [
    "print(raw.ch_names[-3:])"
   ]
  },
  {
   "cell_type": "code",
   "execution_count": 57,
   "metadata": {},
   "outputs": [
    {
     "name": "stdout",
     "output_type": "stream",
     "text": [
      "['EEG-059', 'EEG-060', 'blink-detector']\n"
     ]
    }
   ],
   "source": [
    "# replace spaces with -\n",
    "channel_rename_dict = {name: name.replace(' ', '-') for name in raw.ch_names}\n",
    "raw.rename_channels(channel_rename_dict)\n",
    "print(raw.ch_names[-3:])"
   ]
  },
  {
   "cell_type": "code",
   "execution_count": 59,
   "metadata": {},
   "outputs": [
    {
     "name": "stdout",
     "output_type": "stream",
     "text": [
      "['EEG-001', 'blink-detector']\n"
     ]
    }
   ],
   "source": [
    "raw.set_channel_types({'EEG-001': 'eog'})\n",
    "print(raw.copy().pick_types(meg=False, eog=True).ch_names)"
   ]
  },
  {
   "cell_type": "markdown",
   "metadata": {},
   "source": [
    "### Selection in the time domain"
   ]
  },
  {
   "cell_type": "code",
   "execution_count": 60,
   "metadata": {},
   "outputs": [],
   "source": [
    "raw_selection = raw.copy().crop(tmin=10, tmax=12.5)"
   ]
  },
  {
   "cell_type": "code",
   "execution_count": 61,
   "metadata": {},
   "outputs": [
    {
     "name": "stdout",
     "output_type": "stream",
     "text": [
      "<Raw  |  sample_audvis_raw.fif, n_channels x n_times : 376 x 1503 (2.5 sec), ~8.0 MB, data loaded>\n"
     ]
    }
   ],
   "source": [
    "print(raw_selection)"
   ]
  },
  {
   "cell_type": "code",
   "execution_count": 62,
   "metadata": {},
   "outputs": [
    {
     "name": "stdout",
     "output_type": "stream",
     "text": [
      "0.0 2.500770084699155\n"
     ]
    }
   ],
   "source": [
    "print(raw_selection.times.min(), raw_selection.times.max())"
   ]
  },
  {
   "cell_type": "code",
   "execution_count": 63,
   "metadata": {},
   "outputs": [
    {
     "data": {
      "text/plain": [
       "<Raw  |  sample_audvis_raw.fif, n_channels x n_times : 376 x 902 (1.5 sec), ~6.2 MB, data loaded>"
      ]
     },
     "execution_count": 63,
     "metadata": {},
     "output_type": "execute_result"
    }
   ],
   "source": [
    "raw_selection.crop(tmin=1)"
   ]
  },
  {
   "cell_type": "code",
   "execution_count": 64,
   "metadata": {},
   "outputs": [
    {
     "name": "stdout",
     "output_type": "stream",
     "text": [
      "0.0 1.5001290587975622\n"
     ]
    }
   ],
   "source": [
    "print(raw_selection.times.min(), raw_selection.times.max())"
   ]
  },
  {
   "cell_type": "code",
   "execution_count": 65,
   "metadata": {},
   "outputs": [],
   "source": [
    "raw_selection1 = raw.copy().crop(tmin=30, tmax=30.1) # 0.1 sec\n",
    "raw_selection2 = raw.copy().crop(tmin=40, tmax=41.1) # 1.1 sec\n",
    "raw_selection3 = raw.copy().crop(tmin=50, tmax=51.3) # 1.3 sec"
   ]
  },
  {
   "cell_type": "code",
   "execution_count": 66,
   "metadata": {},
   "outputs": [],
   "source": [
    "raw_selection1.append([raw_selection2, raw_selection3]) # 2.5 sec"
   ]
  },
  {
   "cell_type": "code",
   "execution_count": 67,
   "metadata": {},
   "outputs": [
    {
     "name": "stdout",
     "output_type": "stream",
     "text": [
      "0.0 2.5041000049184614\n"
     ]
    }
   ],
   "source": [
    "print(raw_selection1.times.min(), raw_selection1.times.max())"
   ]
  },
  {
   "cell_type": "markdown",
   "metadata": {},
   "source": [
    "## Extracting data from Raw objects"
   ]
  },
  {
   "cell_type": "code",
   "execution_count": 72,
   "metadata": {},
   "outputs": [],
   "source": [
    "sampling_freq = raw.info['sfreq']\n",
    "start_stop_seconds = np.array([11, 13])\n",
    "start_sample, stop_sample = (start_stop_seconds * sampling_freq).astype(int)\n",
    "channel_index = 0\n",
    "raw_selection = raw[channel_index, start_sample:stop_sample]"
   ]
  },
  {
   "cell_type": "code",
   "execution_count": 75,
   "metadata": {},
   "outputs": [
    {
     "data": {
      "text/plain": [
       "(array([[-3.85742192e-12, -3.85742192e-12, -9.64355481e-13, ...,\n",
       "          2.89306644e-12,  3.85742192e-12,  3.85742192e-12]]),\n",
       " array([10.99872648, 11.00039144, 11.0020564 , ..., 12.9933487 ,\n",
       "        12.99501366, 12.99667862]))"
      ]
     },
     "execution_count": 75,
     "metadata": {},
     "output_type": "execute_result"
    }
   ],
   "source": [
    "raw_selection"
   ]
  },
  {
   "cell_type": "code",
   "execution_count": 79,
   "metadata": {},
   "outputs": [
    {
     "data": {
      "image/png": "[encoded data removed]",
      "text/plain": [
       "<Figure size 432x288 with 1 Axes>"
      ]
     },
     "metadata": {
      "needs_background": "light"
     },
     "output_type": "display_data"
    }
   ],
   "source": [
    "x = raw_selection[1]\n",
    "y = raw_selection[0].T\n",
    "plt.plot(x, y);"
   ]
  },
  {
   "cell_type": "markdown",
   "metadata": {},
   "source": [
    "### Extracting channels by name"
   ]
  },
  {
   "cell_type": "code",
   "execution_count": 82,
   "metadata": {},
   "outputs": [
    {
     "data": {
      "image/png": "[encoded data removed]",
      "text/plain": [
       "<Figure size 432x288 with 1 Axes>"
      ]
     },
     "metadata": {
      "needs_background": "light"
     },
     "output_type": "display_data"
    }
   ],
   "source": [
    "channel_names = ['MEG-0712', 'MEG-1022']\n",
    "two_meg_chans = raw[channel_names, start_sample:stop_sample]\n",
    "y_offset = np.array([5e-11, 0]) # just enough to separate the channel traces\n",
    "x = two_meg_chans[1]\n",
    "y = two_meg_chans[0].T + y_offset\n",
    "lines = plt.plot(x, y)\n",
    "plt.legend(lines, channel_names);"
   ]
  },
  {
   "cell_type": "markdown",
   "metadata": {},
   "source": [
    "### Extracting channels by type"
   ]
  },
  {
   "cell_type": "code",
   "execution_count": 83,
   "metadata": {},
   "outputs": [
    {
     "name": "stdout",
     "output_type": "stream",
     "text": [
      "(58, 36038)\n"
     ]
    }
   ],
   "source": [
    "eeg_channel_indices = mne.pick_types(raw.info, meg=False, eeg=True)\n",
    "eeg_data, times = raw[eeg_channel_indices]\n",
    "print(eeg_data.shape)"
   ]
  },
  {
   "cell_type": "code",
   "execution_count": 84,
   "metadata": {},
   "outputs": [
    {
     "name": "stdout",
     "output_type": "stream",
     "text": [
      "(376, 36038)\n"
     ]
    }
   ],
   "source": [
    "data = raw.get_data()\n",
    "print(data.shape)"
   ]
  },
  {
   "cell_type": "code",
   "execution_count": 85,
   "metadata": {},
   "outputs": [
    {
     "name": "stdout",
     "output_type": "stream",
     "text": [
      "(376, 36038)\n",
      "(36038,)\n"
     ]
    }
   ],
   "source": [
    "data, times = raw.get_data(return_times=True)\n",
    "print(data.shape)\n",
    "print(times.shape)"
   ]
  },
  {
   "cell_type": "code",
   "execution_count": 86,
   "metadata": {},
   "outputs": [],
   "source": [
    "first_channel_data = raw.get_data(picks=0)\n",
    "eeg_and_eog_data = raw.get_data(picks=['eeg', 'eog'])\n",
    "two_meg_chans_data = raw.get_data(picks=['MEG-0712', 'MEG-1022'], start=1000, stop=2000)"
   ]
  },
  {
   "cell_type": "code",
   "execution_count": 87,
   "metadata": {},
   "outputs": [
    {
     "name": "stdout",
     "output_type": "stream",
     "text": [
      "(1, 36038)\n",
      "(61, 36038)\n",
      "(2, 1000)\n"
     ]
    }
   ],
   "source": [
    "print(first_channel_data.shape)\n",
    "print(eeg_and_eog_data.shape)\n",
    "print(two_meg_chans_data.shape)"
   ]
  },
  {
   "cell_type": "code",
   "execution_count": null,
   "metadata": {},
   "outputs": [],
   "source": []
  }
 ],
 "metadata": {
  "kernelspec": {
   "display_name": "Python 3",
   "language": "python",
   "name": "python3"
  },
  "language_info": {
   "codemirror_mode": {
    "name": "ipython",
    "version": 3
   },
   "file_extension": ".py",
   "mimetype": "text/x-python",
   "name": "python",
   "nbconvert_exporter": "python",
   "pygments_lexer": "ipython3",
   "version": "3.7.4"
  }
 },
 "nbformat": 4,
 "nbformat_minor": 4
}
