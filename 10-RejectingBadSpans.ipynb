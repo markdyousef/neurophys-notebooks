{
 "cells": [
  {
   "cell_type": "code",
   "execution_count": 1,
   "metadata": {},
   "outputs": [],
   "source": [
    "import os\n",
    "import mne\n",
    "\n",
    "sample_data_folder = mne.datasets.sample.data_path()\n",
    "sample_data_raw_file = os.path.join(sample_data_folder, 'MEG', 'sample', 'sample_audvis_filt-0-40_raw.fif')\n",
    "raw = mne.io.read_raw_fif(sample_data_raw_file, verbose=False)\n",
    "\n",
    "events_file = os.path.join(sample_data_folder, 'MEG', 'sample', 'sample_audvis_filt-0-40_raw-eve.fif')\n",
    "events = mne.read_events(events_file)\n",
    "\n",
    "%matplotlib widget"
   ]
  },
  {
   "cell_type": "code",
   "execution_count": null,
   "metadata": {},
   "outputs": [],
   "source": []
  },
  {
   "cell_type": "code",
   "execution_count": null,
   "metadata": {},
   "outputs": [],
   "source": []
  },
  {
   "cell_type": "code",
   "execution_count": 2,
   "metadata": {},
   "outputs": [
    {
     "data": {
      "application/vnd.jupyter.widget-view+json": {
       "model_id": "e7183e6c62b0486f85a04212e682575c",
       "version_major": 2,
       "version_minor": 0
      },
      "text/plain": [
       "Canvas(toolbar=Toolbar(toolitems=[('Home', 'Reset original view', 'home', 'home'), ('Back', 'Back to previous …"
      ]
     },
     "metadata": {},
     "output_type": "display_data"
    },
    {
     "data": {
      "application/vnd.jupyter.widget-view+json": {
       "model_id": "0a2a53cb9df9409e8add0e93a1a764a6",
       "version_major": 2,
       "version_minor": 0
      },
      "text/plain": [
       "Canvas(toolbar=Toolbar(toolitems=[('Home', 'Reset original view', 'home', 'home'), ('Back', 'Back to previous …"
      ]
     },
     "metadata": {},
     "output_type": "display_data"
    }
   ],
   "source": [
    "fig = raw.plot()\n",
    "fig.canvas.key_press_event('a')"
   ]
  },
  {
   "cell_type": "markdown",
   "metadata": {},
   "source": [
    "## Generating annotations programatically"
   ]
  },
  {
   "cell_type": "markdown",
   "metadata": {},
   "source": [
    "Use the lower-level artifact detection function to get an events array telling us where the blinks are, then automatically add “bad_blink” annotations around them (this is not necessary when using `create_eog_epochs()`, it is done here just to show how annotations are added non-interactively). We’ll start the annotations 250 ms before the blink and end them 250 ms after it:"
   ]
  },
  {
   "cell_type": "code",
   "execution_count": 3,
   "metadata": {},
   "outputs": [
    {
     "name": "stdout",
     "output_type": "stream",
     "text": [
      "EOG channel index for this subject is: [375]\n",
      "Filtering the data to remove DC offset to help distinguish blinks from saccades\n",
      "Setting up band-pass filter from 2 - 45 Hz\n",
      "\n",
      "FIR filter parameters\n",
      "---------------------\n",
      "Designing a two-pass forward and reverse, zero-phase, non-causal bandpass filter:\n",
      "- Windowed frequency-domain design (firwin2) method\n",
      "- Hann window\n",
      "- Lower passband edge: 2.00\n",
      "- Lower transition bandwidth: 0.50 Hz (-12 dB cutoff frequency: 1.75 Hz)\n",
      "- Upper passband edge: 45.00 Hz\n",
      "- Upper transition bandwidth: 0.50 Hz (-12 dB cutoff frequency: 45.25 Hz)\n",
      "- Filter length: 2048 samples (13.639 sec)\n",
      "\n",
      "Setting up band-pass filter from 1 - 10 Hz\n",
      "\n",
      "FIR filter parameters\n",
      "---------------------\n",
      "Designing a two-pass forward and reverse, zero-phase, non-causal bandpass filter:\n",
      "- Windowed frequency-domain design (firwin2) method\n",
      "- Hann window\n",
      "- Lower passband edge: 1.00\n",
      "- Lower transition bandwidth: 0.50 Hz (-12 dB cutoff frequency: 0.75 Hz)\n",
      "- Upper passband edge: 10.00 Hz\n",
      "- Upper transition bandwidth: 0.50 Hz (-12 dB cutoff frequency: 10.25 Hz)\n",
      "- Filter length: 2048 samples (13.639 sec)\n",
      "\n",
      "Now detecting blinks and generating corresponding events\n",
      "Number of EOG events detected : 46\n"
     ]
    },
    {
     "data": {
      "text/plain": [
       "<Raw  |  sample_audvis_filt-0-40_raw.fif, n_channels x n_times : 376 x 41700 (277.7 sec), ~3.7 MB, data not loaded>"
      ]
     },
     "execution_count": 3,
     "metadata": {},
     "output_type": "execute_result"
    }
   ],
   "source": [
    "eog_events = mne.preprocessing.find_eog_events(raw)\n",
    "onsets = eog_events[:, 0] / raw.info['sfreq'] - 0.25\n",
    "durations = [0.5] * len(eog_events)\n",
    "descriptions = ['bad blink'] * len(eog_events)\n",
    "blink_annot = mne.Annotations(onsets, durations, descriptions, orig_time=raw.info['meas_date'])\n",
    "\n",
    "raw.set_annotations(blink_annot)"
   ]
  },
  {
   "cell_type": "markdown",
   "metadata": {},
   "source": [
    "Looking at the EEG channels (easy to see eye blinks), we can confirm that the annotations are centered around the EOG events"
   ]
  },
  {
   "cell_type": "code",
   "execution_count": 4,
   "metadata": {},
   "outputs": [
    {
     "data": {
      "application/vnd.jupyter.widget-view+json": {
       "model_id": "fd712c489e2649afb8890ef8e00c4e34",
       "version_major": 2,
       "version_minor": 0
      },
      "text/plain": [
       "Canvas(toolbar=Toolbar(toolitems=[('Home', 'Reset original view', 'home', 'home'), ('Back', 'Back to previous …"
      ]
     },
     "metadata": {},
     "output_type": "display_data"
    }
   ],
   "source": [
    "eeg_picks = mne.pick_types(raw.info, meg=False, eeg=True)\n",
    "raw.plot(events=eog_events, order=eeg_picks);"
   ]
  },
  {
   "cell_type": "markdown",
   "metadata": {},
   "source": [
    "## Rejecting Epochs based on channel amplitude"
   ]
  },
  {
   "cell_type": "markdown",
   "metadata": {},
   "source": [
    "* setting **maximum** acceptable peak-to-peak amplitudes for each channel type in an epoch, using the `reject` parameter. \n",
    "* There is also a related parameter, `flat`, that can be used to set **minimum** acceptable peak-to-peak amplitudes for each channel type in an epoch:"
   ]
  },
  {
   "cell_type": "code",
   "execution_count": 5,
   "metadata": {},
   "outputs": [],
   "source": [
    "reject_criteria = dict(mag=3000e-15, # 3000 fT\n",
    "                       grad=3000e-13,# 3000 fT/cm\n",
    "                       eeg=100e-6, # 100 µV\n",
    "                       eog=200e-6) # 200 µV\n",
    "\n",
    "flat_criteria = dict(mag=1e-15, # 1 fT\n",
    "                     grad=1e-13, # 1 fT/cm\n",
    "                     eeg=1e-6) # 1 µV"
   ]
  },
  {
   "cell_type": "markdown",
   "metadata": {},
   "source": [
    "The values that are appropriate are dataset- and hardware-dependent, so some trial-and-error may be necessary to find the correct balance between data quality and loss of power due to too many dropped epochs. Here, we’ve set the rejection criteria to be fairly stringent, for illustration purposes.\n",
    "\n",
    "Two additional parameters, `reject_tmin` and `reject_tmax`, are used to set the temporal window in which to calculate peak-to-peak amplitude for the purposes of epoch rejection. These default to the same `tmin` and `tmax` of the entire epoch. As one example, if you wanted to only apply the rejection thresholds to the portion of the epoch that occurs before the event marker around which the epoch is created, you could set `reject_tmax=0`."
   ]
  },
  {
   "cell_type": "code",
   "execution_count": 6,
   "metadata": {},
   "outputs": [
    {
     "name": "stdout",
     "output_type": "stream",
     "text": [
      "319 matching events found\n",
      "Applying baseline correction (mode: mean)\n",
      "Not setting metadata\n",
      "Created an SSP operator (subspace dimension = 4)\n",
      "4 projection items activated\n",
      "Loading data for 319 events and 106 original time points ...\n",
      "    Rejecting  epoch based on EEG : ['EEG 001', 'EEG 002', 'EEG 003', 'EEG 007']\n",
      "    Rejecting  epoch based on EOG : ['EOG 061']\n",
      "    Rejecting  epoch based on EEG : ['EEG 001', 'EEG 003', 'EEG 007']\n",
      "    Rejecting  epoch based on MAG : ['MEG 1711']\n",
      "    Rejecting  epoch based on EEG : ['EEG 007']\n",
      "    Rejecting  epoch based on EEG : ['EEG 003']\n",
      "    Rejecting  epoch based on EOG : ['EOG 061']\n",
      "    Rejecting  epoch based on EEG : ['EEG 001', 'EEG 002', 'EEG 003']\n",
      "8 bad epochs dropped\n"
     ]
    },
    {
     "data": {
      "application/vnd.jupyter.widget-view+json": {
       "model_id": "8be30af76f464baeafcbc7110683626a",
       "version_major": 2,
       "version_minor": 0
      },
      "text/plain": [
       "Canvas(toolbar=Toolbar(toolitems=[('Home', 'Reset original view', 'home', 'home'), ('Back', 'Back to previous …"
      ]
     },
     "metadata": {},
     "output_type": "display_data"
    }
   ],
   "source": [
    "epochs = mne.Epochs(raw,\n",
    "                    events,\n",
    "                    tmin=-0.2,\n",
    "                    tmax=0.5,\n",
    "                    reject_tmax=0,\n",
    "                    reject=reject_criteria,\n",
    "                    flat=flat_criteria,\n",
    "                    reject_by_annotation=False,\n",
    "                    preload=True)\n",
    "\n",
    "epochs.plot_drop_log();"
   ]
  },
  {
   "cell_type": "markdown",
   "metadata": {},
   "source": [
    "Notice that we’ve passed `reject_by_annotation=False` above, in order to isolate the effects of the rejection thresholds. If we re-run the epoching with `reject_by_annotation=True` (the default) we see that the rejections due to EEG and EOG channels have disappeared (suggesting that those channel fluctuations were probably blink-related, and were subsumed by rejections based on the “bad blink” label)."
   ]
  },
  {
   "cell_type": "code",
   "execution_count": 7,
   "metadata": {},
   "outputs": [
    {
     "name": "stdout",
     "output_type": "stream",
     "text": [
      "319 matching events found\n",
      "Applying baseline correction (mode: mean)\n",
      "Not setting metadata\n",
      "Created an SSP operator (subspace dimension = 4)\n",
      "4 projection items activated\n",
      "Loading data for 319 events and 106 original time points ...\n",
      "    Rejecting  epoch based on MAG : ['MEG 1711']\n",
      "66 bad epochs dropped\n"
     ]
    },
    {
     "data": {
      "application/vnd.jupyter.widget-view+json": {
       "model_id": "4cb0561fa4084e1096e5a38b631e8a09",
       "version_major": 2,
       "version_minor": 0
      },
      "text/plain": [
       "Canvas(toolbar=Toolbar(toolitems=[('Home', 'Reset original view', 'home', 'home'), ('Back', 'Back to previous …"
      ]
     },
     "metadata": {},
     "output_type": "display_data"
    }
   ],
   "source": [
    "epochs = mne.Epochs(raw,\n",
    "                    events,\n",
    "                    tmin=-0.2,\n",
    "                    tmax=0.5,\n",
    "                    reject_tmax=0,\n",
    "                    reject=reject_criteria,\n",
    "                    flat=flat_criteria,\n",
    "                    preload=True)\n",
    "\n",
    "epochs.plot_drop_log();"
   ]
  },
  {
   "cell_type": "markdown",
   "metadata": {},
   "source": [
    "More importantly, note that many more epochs are rejected (~20% instead of ~2.5%) when rejecting based on the blink labels, underscoring why it is usually desirable to repair artifacts rather than exclude them."
   ]
  },
  {
   "cell_type": "code",
   "execution_count": 8,
   "metadata": {},
   "outputs": [
    {
     "name": "stdout",
     "output_type": "stream",
     "text": [
      "[['bad blink'], [], [], [], [], [], [], [], [], [], [], [], [], [], [], ['bad blink'], ['bad blink'], ['bad blink'], [], [], [], [], [], [], [], [], [], [], [], [], [], [], [], [], [], [], [], [], [], [], ['bad blink'], ['bad blink'], [], ['bad blink'], ['bad blink'], [], [], [], [], [], [], [], [], [], [], [], [], [], [], [], ['bad blink'], ['bad blink'], ['bad blink'], [], [], [], [], [], [], [], [], [], [], [], [], [], [], [], [], [], ['bad blink'], ['bad blink'], ['bad blink'], ['bad blink'], ['bad blink'], ['bad blink'], ['bad blink'], [], ['bad blink'], ['bad blink'], [], [], [], [], [], [], [], [], [], [], [], [], ['bad blink'], ['bad blink'], [], [], [], [], [], [], [], [], [], [], [], [], [], [], [], [], [], [], [], [], ['MEG 1711'], [], [], [], [], [], [], [], [], [], [], [], [], [], [], [], [], [], [], [], [], [], [], ['bad blink'], ['bad blink'], ['bad blink'], ['bad blink'], [], [], [], [], [], [], [], [], [], [], [], [], [], [], [], ['bad blink'], ['bad blink'], [], [], [], [], [], [], [], [], [], [], ['bad blink'], [], [], ['bad blink'], [], [], [], [], [], ['bad blink'], ['bad blink'], [], [], ['bad blink'], ['bad blink'], [], [], ['bad blink'], ['bad blink'], ['bad blink'], [], [], [], ['bad blink'], ['bad blink'], [], [], [], ['bad blink'], [], ['bad blink'], ['bad blink'], ['bad blink'], [], ['bad blink'], ['bad blink'], [], [], ['bad blink'], ['bad blink'], [], [], [], [], [], [], [], [], [], ['bad blink'], ['bad blink'], [], [], [], [], [], [], [], [], [], [], [], [], [], [], [], [], [], [], [], [], [], ['bad blink'], ['bad blink'], [], [], [], [], [], [], ['bad blink'], ['bad blink'], ['bad blink'], [], [], [], [], [], [], [], [], [], [], [], [], [], [], ['bad blink'], ['bad blink'], [], ['bad blink'], ['bad blink'], ['bad blink'], [], ['bad blink'], ['bad blink'], ['bad blink'], ['bad blink'], [], [], [], [], [], [], [], [], [], [], [], [], [], [], [], [], [], [], [], [], [], [], [], [], [], [], [], ['bad blink'], ['bad blink'], [], [], [], []]\n"
     ]
    }
   ],
   "source": [
    "print(epochs.drop_log)"
   ]
  },
  {
   "cell_type": "code",
   "execution_count": 9,
   "metadata": {},
   "outputs": [],
   "source": [
    "epochs.drop_bad()"
   ]
  },
  {
   "cell_type": "code",
   "execution_count": 10,
   "metadata": {},
   "outputs": [
    {
     "name": "stdout",
     "output_type": "stream",
     "text": [
      "    Rejecting  epoch based on MAG : ['MEG 0111', 'MEG 0141', 'MEG 1411', 'MEG 1421', 'MEG 1431', 'MEG 1541']\n",
      "    Rejecting  epoch based on MAG : ['MEG 0111', 'MEG 0141', 'MEG 1421', 'MEG 1431', 'MEG 1541', 'MEG 2621']\n",
      "    Rejecting  epoch based on MAG : ['MEG 0111', 'MEG 0141', 'MEG 1411', 'MEG 1421', 'MEG 1431', 'MEG 1441', 'MEG 1541', 'MEG 2621']\n",
      "    Rejecting  epoch based on MAG : ['MEG 0111', 'MEG 0141', 'MEG 1421', 'MEG 1431', 'MEG 1541', 'MEG 2621']\n",
      "    Rejecting  epoch based on MAG : ['MEG 0141', 'MEG 1421', 'MEG 1431', 'MEG 1541', 'MEG 2621']\n",
      "    Rejecting  epoch based on MAG : ['MEG 0111', 'MEG 0141', 'MEG 1421', 'MEG 1431']\n",
      "    Rejecting  epoch based on MAG : ['MEG 0111', 'MEG 0141', 'MEG 1411', 'MEG 1421', 'MEG 1431', 'MEG 1541', 'MEG 2621']\n",
      "    Rejecting  epoch based on MAG : ['MEG 0111', 'MEG 0141', 'MEG 1421', 'MEG 1431', 'MEG 1541', 'MEG 2621']\n",
      "    Rejecting  epoch based on MAG : ['MEG 1421', 'MEG 1431', 'MEG 2621']\n",
      "    Rejecting  epoch based on MAG : ['MEG 0111', 'MEG 0141', 'MEG 1421', 'MEG 1431', 'MEG 1541']\n",
      "    Rejecting  epoch based on MAG : ['MEG 0111', 'MEG 0141', 'MEG 1411', 'MEG 1421', 'MEG 1431', 'MEG 1541', 'MEG 2621']\n",
      "    Rejecting  epoch based on EOG : ['EOG 061']\n",
      "    Rejecting  epoch based on MAG : ['MEG 0111', 'MEG 0141', 'MEG 1421', 'MEG 1431', 'MEG 1541', 'MEG 2621']\n",
      "    Rejecting  epoch based on MAG : ['MEG 0111', 'MEG 0141', 'MEG 1421', 'MEG 1431']\n",
      "    Rejecting  epoch based on MAG : ['MEG 0111', 'MEG 0141', 'MEG 1421', 'MEG 1541']\n",
      "    Rejecting  epoch based on MAG : ['MEG 0111', 'MEG 0141', 'MEG 1411', 'MEG 1421', 'MEG 1431', 'MEG 1441', 'MEG 1541', 'MEG 2621']\n",
      "    Rejecting  epoch based on EOG : ['EOG 061']\n",
      "    Rejecting  epoch based on MAG : ['MEG 0111', 'MEG 0141', 'MEG 1221', 'MEG 1321', 'MEG 1411', 'MEG 1421', 'MEG 1431', 'MEG 1441', 'MEG 1541', 'MEG 1741', 'MEG 2141', 'MEG 2621']\n",
      "    Rejecting  epoch based on MAG : ['MEG 0111', 'MEG 0141', 'MEG 1421', 'MEG 1431', 'MEG 1541', 'MEG 1741', 'MEG 2141', 'MEG 2621']\n",
      "    Rejecting  epoch based on MAG : ['MEG 0111', 'MEG 0141', 'MEG 1421', 'MEG 1431', 'MEG 1541']\n",
      "    Rejecting  epoch based on MAG : ['MEG 0111', 'MEG 0141', 'MEG 1411', 'MEG 1421', 'MEG 1431', 'MEG 1541', 'MEG 2621']\n",
      "    Rejecting  epoch based on EOG : ['EOG 061']\n",
      "    Rejecting  epoch based on MAG : ['MEG 0111', 'MEG 0141', 'MEG 1421', 'MEG 1431', 'MEG 1541']\n",
      "    Rejecting  epoch based on MAG : ['MEG 0111', 'MEG 0141', 'MEG 1411', 'MEG 1421', 'MEG 1431', 'MEG 1541', 'MEG 2621']\n",
      "    Rejecting  epoch based on MAG : ['MEG 0111', 'MEG 0141', 'MEG 1421', 'MEG 1431', 'MEG 1541']\n",
      "    Rejecting  epoch based on MAG : ['MEG 0111', 'MEG 0141', 'MEG 1541']\n",
      "    Rejecting  epoch based on MAG : ['MEG 0111', 'MEG 0141', 'MEG 1421', 'MEG 1431']\n",
      "    Rejecting  epoch based on MAG : ['MEG 0111', 'MEG 0141', 'MEG 1411', 'MEG 1421', 'MEG 1431', 'MEG 1541']\n",
      "    Rejecting  epoch based on MAG : ['MEG 0111', 'MEG 0141', 'MEG 1421']\n",
      "    Rejecting  epoch based on MAG : ['MEG 1421', 'MEG 1431']\n",
      "    Rejecting  epoch based on MAG : ['MEG 1431']\n",
      "    Rejecting  epoch based on MAG : ['MEG 0111', 'MEG 0141', 'MEG 1421', 'MEG 1431']\n",
      "    Rejecting  epoch based on MAG : ['MEG 0111', 'MEG 0141', 'MEG 1421', 'MEG 1431', 'MEG 1541']\n",
      "    Rejecting  epoch based on EOG : ['EOG 061']\n",
      "    Rejecting  epoch based on MAG : ['MEG 0111', 'MEG 0141', 'MEG 1421', 'MEG 1431', 'MEG 2621']\n",
      "    Rejecting  epoch based on MAG : ['MEG 0111', 'MEG 0141', 'MEG 1411', 'MEG 1421', 'MEG 1431', 'MEG 1541']\n",
      "    Rejecting  epoch based on MAG : ['MEG 0111', 'MEG 0141', 'MEG 1421', 'MEG 1431', 'MEG 1541']\n",
      "    Rejecting  epoch based on MAG : ['MEG 0111', 'MEG 0141', 'MEG 1411', 'MEG 1421', 'MEG 1431', 'MEG 2621']\n",
      "    Rejecting  epoch based on MAG : ['MEG 0111', 'MEG 0141', 'MEG 0811', 'MEG 0911', 'MEG 1411', 'MEG 1421', 'MEG 1431', 'MEG 1541', 'MEG 2621']\n",
      "    Rejecting  epoch based on EOG : ['EOG 061']\n",
      "    Rejecting  epoch based on MAG : ['MEG 0111', 'MEG 0141', 'MEG 1411', 'MEG 1421', 'MEG 1431', 'MEG 1541', 'MEG 2621']\n",
      "    Rejecting  epoch based on MAG : ['MEG 0111', 'MEG 0141', 'MEG 1421', 'MEG 1541']\n",
      "    Rejecting  epoch based on MAG : ['MEG 0111', 'MEG 0141', 'MEG 1321', 'MEG 1331', 'MEG 1421', 'MEG 1431', 'MEG 1541']\n",
      "    Rejecting  epoch based on MAG : ['MEG 1421']\n",
      "    Rejecting  epoch based on MAG : ['MEG 0111', 'MEG 0141', 'MEG 1421', 'MEG 1431', 'MEG 1541']\n",
      "    Rejecting  epoch based on MAG : ['MEG 0141', 'MEG 1421', 'MEG 1431', 'MEG 2621']\n",
      "    Rejecting  epoch based on MAG : ['MEG 0111', 'MEG 0141', 'MEG 1421', 'MEG 1431', 'MEG 2621']\n",
      "    Rejecting  epoch based on MAG : ['MEG 0111', 'MEG 0141', 'MEG 1421', 'MEG 1431', 'MEG 1541', 'MEG 2131', 'MEG 2531', 'MEG 2541', 'MEG 2611', 'MEG 2621', 'MEG 2631']\n",
      "    Rejecting  epoch based on MAG : ['MEG 1411', 'MEG 1421', 'MEG 1431', 'MEG 2621']\n",
      "    Rejecting  epoch based on MAG : ['MEG 2421']\n",
      "    Rejecting  epoch based on MAG : ['MEG 1321', 'MEG 1331']\n",
      "    Rejecting  epoch based on MAG : ['MEG 0111', 'MEG 0141', 'MEG 1411', 'MEG 1421', 'MEG 1431', 'MEG 1541']\n",
      "    Rejecting  epoch based on MAG : ['MEG 0111', 'MEG 0141', 'MEG 1421', 'MEG 1431', 'MEG 1541', 'MEG 2621']\n",
      "    Rejecting  epoch based on MAG : ['MEG 0111', 'MEG 0141', 'MEG 1411', 'MEG 1421', 'MEG 1431', 'MEG 1541', 'MEG 2621']\n",
      "    Rejecting  epoch based on MAG : ['MEG 0141', 'MEG 1421', 'MEG 1431', 'MEG 2621']\n",
      "    Rejecting  epoch based on MAG : ['MEG 0111', 'MEG 0141', 'MEG 1421', 'MEG 1431', 'MEG 1541', 'MEG 2621']\n",
      "    Rejecting  epoch based on MAG : ['MEG 0141', 'MEG 1411', 'MEG 1421', 'MEG 1431', 'MEG 2621']\n",
      "57 bad epochs dropped\n",
      "[['bad blink'], [], ['MEG 0111', 'MEG 0141', 'MEG 1411', 'MEG 1421', 'MEG 1431', 'MEG 1541'], [], [], ['MEG 0111', 'MEG 0141', 'MEG 1421', 'MEG 1431', 'MEG 1541', 'MEG 2621'], [], [], ['MEG 0111', 'MEG 0141', 'MEG 1411', 'MEG 1421', 'MEG 1431', 'MEG 1441', 'MEG 1541', 'MEG 2621'], [], [], [], ['MEG 0111', 'MEG 0141', 'MEG 1421', 'MEG 1431', 'MEG 1541', 'MEG 2621'], [], [], ['bad blink'], ['bad blink'], ['bad blink'], [], [], [], [], ['MEG 0141', 'MEG 1421', 'MEG 1431', 'MEG 1541', 'MEG 2621'], [], [], [], ['MEG 0111', 'MEG 0141', 'MEG 1421', 'MEG 1431'], [], [], ['MEG 0111', 'MEG 0141', 'MEG 1411', 'MEG 1421', 'MEG 1431', 'MEG 1541', 'MEG 2621'], [], [], [], [], [], [], ['MEG 0111', 'MEG 0141', 'MEG 1421', 'MEG 1431', 'MEG 1541', 'MEG 2621'], [], [], [], ['bad blink'], ['bad blink'], [], ['bad blink'], ['bad blink'], [], ['MEG 1421', 'MEG 1431', 'MEG 2621'], [], [], ['MEG 0111', 'MEG 0141', 'MEG 1421', 'MEG 1431', 'MEG 1541'], [], [], [], [], [], ['MEG 0111', 'MEG 0141', 'MEG 1411', 'MEG 1421', 'MEG 1431', 'MEG 1541', 'MEG 2621'], [], [], [], [], ['bad blink'], ['bad blink'], ['bad blink'], [], [], ['EOG 061'], [], [], [], [], [], ['MEG 0111', 'MEG 0141', 'MEG 1421', 'MEG 1431', 'MEG 1541', 'MEG 2621'], [], [], [], [], [], [], [], [], ['bad blink'], ['bad blink'], ['bad blink'], ['bad blink'], ['bad blink'], ['bad blink'], ['bad blink'], [], ['bad blink'], ['bad blink'], [], [], [], [], [], ['MEG 0111', 'MEG 0141', 'MEG 1421', 'MEG 1431'], [], [], [], [], [], ['MEG 0111', 'MEG 0141', 'MEG 1421', 'MEG 1541'], ['bad blink'], ['bad blink'], ['MEG 0111', 'MEG 0141', 'MEG 1411', 'MEG 1421', 'MEG 1431', 'MEG 1441', 'MEG 1541', 'MEG 2621', 'EOG 061'], [], [], [], ['EOG 061'], ['MEG 0111', 'MEG 0141', 'MEG 1221', 'MEG 1321', 'MEG 1411', 'MEG 1421', 'MEG 1431', 'MEG 1441', 'MEG 1541', 'MEG 1741', 'MEG 2141', 'MEG 2621'], [], [], ['MEG 0111', 'MEG 0141', 'MEG 1421', 'MEG 1431', 'MEG 1541', 'MEG 1741', 'MEG 2141', 'MEG 2621'], [], [], ['MEG 0111', 'MEG 0141', 'MEG 1421', 'MEG 1431', 'MEG 1541'], [], [], ['MEG 0111', 'MEG 0141', 'MEG 1411', 'MEG 1421', 'MEG 1431', 'MEG 1541', 'MEG 2621'], [], [], [], ['EOG 061'], [], ['MEG 1711'], [], [], [], ['MEG 0111', 'MEG 0141', 'MEG 1421', 'MEG 1431', 'MEG 1541'], [], [], ['MEG 0111', 'MEG 0141', 'MEG 1411', 'MEG 1421', 'MEG 1431', 'MEG 1541', 'MEG 2621'], [], [], ['MEG 0111', 'MEG 0141', 'MEG 1421', 'MEG 1431', 'MEG 1541'], [], [], [], ['MEG 0111', 'MEG 0141', 'MEG 1541'], [], [], [], [], [], ['MEG 0111', 'MEG 0141', 'MEG 1421', 'MEG 1431'], [], ['MEG 0111', 'MEG 0141', 'MEG 1411', 'MEG 1421', 'MEG 1431', 'MEG 1541'], ['bad blink'], ['bad blink'], ['bad blink'], ['bad blink'], [], ['MEG 0111', 'MEG 0141', 'MEG 1421'], [], [], [], [], ['MEG 1421', 'MEG 1431'], [], ['MEG 1431'], [], [], [], [], [], ['MEG 0111', 'MEG 0141', 'MEG 1421', 'MEG 1431'], ['bad blink'], ['bad blink'], ['MEG 0111', 'MEG 0141', 'MEG 1421', 'MEG 1431', 'MEG 1541'], [], [], [], [], [], [], [], ['EOG 061'], [], ['bad blink'], [], ['MEG 0111', 'MEG 0141', 'MEG 1421', 'MEG 1431', 'MEG 2621'], ['bad blink'], [], ['MEG 0111', 'MEG 0141', 'MEG 1411', 'MEG 1421', 'MEG 1431', 'MEG 1541'], [], ['MEG 0111', 'MEG 0141', 'MEG 1421', 'MEG 1431', 'MEG 1541'], [], ['bad blink'], ['bad blink'], [], ['MEG 0111', 'MEG 0141', 'MEG 1411', 'MEG 1421', 'MEG 1431', 'MEG 2621'], ['bad blink'], ['bad blink'], ['MEG 0111', 'MEG 0141', 'MEG 0811', 'MEG 0911', 'MEG 1411', 'MEG 1421', 'MEG 1431', 'MEG 1541', 'MEG 2621'], [], ['bad blink'], ['bad blink'], ['bad blink'], [], [], [], ['bad blink'], ['bad blink'], ['EOG 061'], ['MEG 0111', 'MEG 0141', 'MEG 1411', 'MEG 1421', 'MEG 1431', 'MEG 1541', 'MEG 2621'], [], ['bad blink'], [], ['bad blink'], ['bad blink'], ['bad blink'], [], ['bad blink'], ['bad blink'], [], [], ['bad blink'], ['bad blink'], [], ['MEG 0111', 'MEG 0141', 'MEG 1421', 'MEG 1541'], [], [], [], [], ['MEG 0111', 'MEG 0141', 'MEG 1321', 'MEG 1331', 'MEG 1421', 'MEG 1431', 'MEG 1541'], [], [], ['bad blink'], ['bad blink'], ['MEG 1421'], [], [], [], [], [], ['MEG 0111', 'MEG 0141', 'MEG 1421', 'MEG 1431', 'MEG 1541'], [], [], [], ['MEG 0141', 'MEG 1421', 'MEG 1431', 'MEG 2621'], ['MEG 0111', 'MEG 0141', 'MEG 1421', 'MEG 1431', 'MEG 2621'], [], [], [], [], [], ['MEG 0111', 'MEG 0141', 'MEG 1421', 'MEG 1431', 'MEG 1541', 'MEG 2131', 'MEG 2531', 'MEG 2541', 'MEG 2611', 'MEG 2621', 'MEG 2631'], [], [], [], ['bad blink'], ['bad blink'], [], [], [], [], ['MEG 1411', 'MEG 1421', 'MEG 1431', 'MEG 2621'], ['MEG 2421'], ['bad blink'], ['bad blink'], ['bad blink'], ['MEG 1321', 'MEG 1331'], [], [], [], [], [], [], ['MEG 0111', 'MEG 0141', 'MEG 1411', 'MEG 1421', 'MEG 1431', 'MEG 1541'], [], [], ['MEG 0111', 'MEG 0141', 'MEG 1421', 'MEG 1431', 'MEG 1541', 'MEG 2621'], [], [], [], ['bad blink'], ['bad blink'], [], ['bad blink'], ['bad blink'], ['bad blink'], [], ['bad blink'], ['bad blink'], ['bad blink'], ['bad blink'], [], [], [], [], [], [], [], [], [], [], [], [], ['MEG 0111', 'MEG 0141', 'MEG 1411', 'MEG 1421', 'MEG 1431', 'MEG 1541', 'MEG 2621'], [], [], [], [], [], [], [], ['MEG 0141', 'MEG 1421', 'MEG 1431', 'MEG 2621'], [], [], ['MEG 0111', 'MEG 0141', 'MEG 1421', 'MEG 1431', 'MEG 1541', 'MEG 2621'], [], [], [], ['bad blink'], ['bad blink'], [], [], ['MEG 0141', 'MEG 1411', 'MEG 1421', 'MEG 1431', 'MEG 2621'], []]\n"
     ]
    }
   ],
   "source": [
    "stronger_reject_criteria = dict(mag=2000e-15, # 2000 fT\n",
    "                                grad=2000e-13, # 2000 fT/cm\n",
    "                                eeg=100e-6, # 100 µV\n",
    "                                eog=100e-6) # 100 µV\n",
    "\n",
    "epochs.drop_bad(reject=stronger_reject_criteria)\n",
    "print(epochs.drop_log)"
   ]
  },
  {
   "cell_type": "code",
   "execution_count": null,
   "metadata": {},
   "outputs": [],
   "source": []
  }
 ],
 "metadata": {
  "kernelspec": {
   "display_name": "Python 3",
   "language": "python",
   "name": "python3"
  },
  "language_info": {
   "codemirror_mode": {
    "name": "ipython",
    "version": 3
   },
   "file_extension": ".py",
   "mimetype": "text/x-python",
   "name": "python",
   "nbconvert_exporter": "python",
   "pygments_lexer": "ipython3",
   "version": "3.7.4"
  }
 },
 "nbformat": 4,
 "nbformat_minor": 4
}
