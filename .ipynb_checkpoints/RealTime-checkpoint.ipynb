{
 "cells": [
  {
   "cell_type": "code",
   "execution_count": 188,
   "metadata": {},
   "outputs": [],
   "source": [
    "import matplotlib.pyplot as plt\n",
    "from mne.datasets import sample\n",
    "from mne.io import read_raw_fif\n",
    "from pylsl import StreamInlet, resolve_stream, StreamInfo\n",
    "from mne import Info\n",
    "\n",
    "%matplotlib widget"
   ]
  },
  {
   "cell_type": "code",
   "execution_count": 179,
   "metadata": {},
   "outputs": [],
   "source": [
    "from mne_realtime import LSLClient, MockLSLStream"
   ]
  },
  {
   "cell_type": "code",
   "execution_count": 180,
   "metadata": {},
   "outputs": [],
   "source": [
    "host = 'localhost' # host that identifies stream on LSL"
   ]
  },
  {
   "cell_type": "code",
   "execution_count": 181,
   "metadata": {},
   "outputs": [],
   "source": [
    "wait_max = 5 # max wait time in sec until client connection"
   ]
  },
  {
   "cell_type": "code",
   "execution_count": 182,
   "metadata": {},
   "outputs": [],
   "source": [
    "streams = resolve_stream('type', 'EEG')"
   ]
  },
  {
   "cell_type": "code",
   "execution_count": 189,
   "metadata": {},
   "outputs": [],
   "source": [
    "info = StreamInfo(\n",
    "    name=\"openbci_eeg\",\n",
    "    type=\"EEG\",\n",
    "    channel_count=8,\n",
    "    nominal_srate=250.0,\n",
    "    channel_format=\"float32\",\n",
    "    source_id=\"openbci_eeg_id93\")"
   ]
  },
  {
   "cell_type": "code",
   "execution_count": 190,
   "metadata": {},
   "outputs": [
    {
     "data": {
      "text/plain": [
       "[<pylsl.pylsl.StreamInfo at 0x125710c10>]"
      ]
     },
     "execution_count": 190,
     "metadata": {},
     "output_type": "execute_result"
    }
   ],
   "source": [
    "streams"
   ]
  },
  {
   "cell_type": "code",
   "execution_count": 191,
   "metadata": {},
   "outputs": [],
   "source": [
    "inlet = StreamInlet(info) # StreamInfo"
   ]
  },
  {
   "cell_type": "code",
   "execution_count": 186,
   "metadata": {},
   "outputs": [
    {
     "name": "stdout",
     "output_type": "stream",
     "text": [
      "56981.429466186 [-5936.42236328125, -5965.501953125, -6027.6845703125, -6032.2666015625, -149510.859375, -146830.28125, -129865.203125, -97672.5625]\n",
      "56981.429664309 [-5938.92578125, -5967.98291015625, -6030.14306640625, -6034.61328125, -149513.234375, -146832.71875, -129867.5234375, -97674.8671875]\n",
      "56981.429852857 [-5936.33251953125, -5966.10546875, -6028.51123046875, -6033.33935546875, -149512.0, -146831.65625, -129866.6953125, -97674.3515625]\n",
      "56981.430051675 [-5932.845703125, -5963.087890625, -6025.6728515625, -6030.54541015625, -149509.40625, -146828.984375, -129864.21875, -97672.1640625]\n",
      "56981.430237954 [-5936.42236328125, -5966.216796875, -6028.53369140625, -6033.2275390625, -149511.84375, -146831.359375, -129866.5625, -97674.265625]\n",
      "56981.430429688 [-5939.19384765625, -5968.31787109375, -6030.478515625, -6035.0380859375, -149513.40625, -146832.765625, -129867.8125, -97675.3359375]\n",
      "56981.430813526 [-5938.38916015625, -5967.55810546875, -6029.69580078125, -6034.0546875, -149512.46875, -146831.734375, -129866.828125, -97674.328125]\n",
      "56981.431008573 [-5937.8974609375, -5967.71484375, -6030.09814453125, -6034.8369140625, -149513.34375, -146832.828125, -129868.1484375, -97675.9375]\n",
      "56981.431196634 [-5935.81884765625, -5966.14990234375, -6028.48876953125, -6033.607421875, -149512.234375, -146831.890625, -129867.234375, -97675.265625]\n",
      "56981.431377817 [-5933.53857421875, -5963.490234375, -6025.56103515625, -6030.36669921875, -149509.015625, -146828.40625, -129863.6328125, -97671.515625]\n"
     ]
    }
   ],
   "source": [
    "for i in range(10):\n",
    "    sample, timestamp = inlet.pull_sample()\n",
    "    print(timestamp, sample)"
   ]
  },
  {
   "cell_type": "code",
   "execution_count": null,
   "metadata": {},
   "outputs": [],
   "source": []
  },
  {
   "cell_type": "code",
   "execution_count": 196,
   "metadata": {},
   "outputs": [
    {
     "data": {
      "application/vnd.jupyter.widget-view+json": {
       "model_id": "4b5761d847f3453fa8163878c7158eb1",
       "version_major": 2,
       "version_minor": 0
      },
      "text/plain": [
       "Canvas(toolbar=Toolbar(toolitems=[('Home', 'Reset original view', 'home', 'home'), ('Back', 'Back to previous …"
      ]
     },
     "metadata": {},
     "output_type": "display_data"
    },
    {
     "name": "stdout",
     "output_type": "stream",
     "text": [
      "Client: Waiting for server to start\n",
      "Client: Connected\n"
     ]
    },
    {
     "ename": "KeyError",
     "evalue": "\"kind must be one of ['eeg', 'mag', 'grad', 'ref_meg', 'misc', 'stim', 'eog', 'ecg', 'emg', 'seeg', 'bio', 'ecog', 'hbo', 'hbr'], not EEG\"",
     "output_type": "error",
     "traceback": [
      "\u001b[0;31m---------------------------------------------------------------------------\u001b[0m",
      "\u001b[0;31mKeyError\u001b[0m                                  Traceback (most recent call last)",
      "\u001b[0;32m<ipython-input-196-07721e144370>\u001b[0m in \u001b[0;36m<module>\u001b[0;34m\u001b[0m\n\u001b[1;32m      1\u001b[0m \u001b[0mplt\u001b[0m\u001b[0;34m.\u001b[0m\u001b[0mion\u001b[0m\u001b[0;34m(\u001b[0m\u001b[0;34m)\u001b[0m  \u001b[0;31m# make plot interactive\u001b[0m\u001b[0;34m\u001b[0m\u001b[0;34m\u001b[0m\u001b[0m\n\u001b[1;32m      2\u001b[0m \u001b[0m_\u001b[0m\u001b[0;34m,\u001b[0m \u001b[0max\u001b[0m \u001b[0;34m=\u001b[0m \u001b[0mplt\u001b[0m\u001b[0;34m.\u001b[0m\u001b[0msubplots\u001b[0m\u001b[0;34m(\u001b[0m\u001b[0;36m1\u001b[0m\u001b[0;34m)\u001b[0m\u001b[0;34m\u001b[0m\u001b[0;34m\u001b[0m\u001b[0m\n\u001b[0;32m----> 3\u001b[0;31m \u001b[0;32mwith\u001b[0m \u001b[0mLSLClient\u001b[0m\u001b[0;34m(\u001b[0m\u001b[0mhost\u001b[0m\u001b[0;34m=\u001b[0m\u001b[0;34m\"openbci_eeg_id93\"\u001b[0m\u001b[0;34m,\u001b[0m \u001b[0mwait_max\u001b[0m\u001b[0;34m=\u001b[0m\u001b[0mwait_max\u001b[0m\u001b[0;34m)\u001b[0m \u001b[0;32mas\u001b[0m \u001b[0mclient\u001b[0m\u001b[0;34m:\u001b[0m\u001b[0;34m\u001b[0m\u001b[0;34m\u001b[0m\u001b[0m\n\u001b[0m\u001b[1;32m      4\u001b[0m     \u001b[0mprint\u001b[0m\u001b[0;34m(\u001b[0m\u001b[0mclient\u001b[0m\u001b[0;34m)\u001b[0m\u001b[0;34m\u001b[0m\u001b[0;34m\u001b[0m\u001b[0m\n\u001b[1;32m      5\u001b[0m \u001b[0;31m#     client_info = client.get_measurement_info()\u001b[0m\u001b[0;34m\u001b[0m\u001b[0;34m\u001b[0m\u001b[0;34m\u001b[0m\u001b[0m\n",
      "\u001b[0;32m/anaconda3/envs/zen_env/lib/python3.7/site-packages/mne_realtime/base_client.py\u001b[0m in \u001b[0;36m__enter__\u001b[0;34m(self)\u001b[0m\n\u001b[1;32m     77\u001b[0m \u001b[0;34m\u001b[0m\u001b[0m\n\u001b[1;32m     78\u001b[0m         \u001b[0;32mif\u001b[0m \u001b[0;32mnot\u001b[0m \u001b[0mself\u001b[0m\u001b[0;34m.\u001b[0m\u001b[0minfo\u001b[0m\u001b[0;34m:\u001b[0m\u001b[0;34m\u001b[0m\u001b[0;34m\u001b[0m\u001b[0m\n\u001b[0;32m---> 79\u001b[0;31m             \u001b[0mself\u001b[0m\u001b[0;34m.\u001b[0m\u001b[0minfo\u001b[0m \u001b[0;34m=\u001b[0m \u001b[0mself\u001b[0m\u001b[0;34m.\u001b[0m\u001b[0m_create_info\u001b[0m\u001b[0;34m(\u001b[0m\u001b[0;34m)\u001b[0m\u001b[0;34m\u001b[0m\u001b[0;34m\u001b[0m\u001b[0m\n\u001b[0m\u001b[1;32m     80\u001b[0m         \u001b[0mself\u001b[0m\u001b[0;34m.\u001b[0m\u001b[0m_enter_extra\u001b[0m\u001b[0;34m(\u001b[0m\u001b[0;34m)\u001b[0m\u001b[0;34m\u001b[0m\u001b[0;34m\u001b[0m\u001b[0m\n\u001b[1;32m     81\u001b[0m \u001b[0;34m\u001b[0m\u001b[0m\n",
      "\u001b[0;32m/anaconda3/envs/zen_env/lib/python3.7/site-packages/mne_realtime/lsl_client.py\u001b[0m in \u001b[0;36m_create_info\u001b[0;34m(self)\u001b[0m\n\u001b[1;32m    111\u001b[0m             \u001b[0;32mtry\u001b[0m\u001b[0;34m:\u001b[0m\u001b[0;34m\u001b[0m\u001b[0;34m\u001b[0m\u001b[0m\n\u001b[1;32m    112\u001b[0m                 \u001b[0mmontage\u001b[0m \u001b[0;34m=\u001b[0m \u001b[0;34m'standard_1005'\u001b[0m\u001b[0;34m\u001b[0m\u001b[0;34m\u001b[0m\u001b[0m\n\u001b[0;32m--> 113\u001b[0;31m                 \u001b[0minfo\u001b[0m \u001b[0;34m=\u001b[0m \u001b[0mcreate_info\u001b[0m\u001b[0;34m(\u001b[0m\u001b[0mch_names\u001b[0m\u001b[0;34m,\u001b[0m \u001b[0msfreq\u001b[0m\u001b[0;34m,\u001b[0m \u001b[0mch_types\u001b[0m\u001b[0;34m,\u001b[0m \u001b[0mmontage\u001b[0m\u001b[0;34m=\u001b[0m\u001b[0mmontage\u001b[0m\u001b[0;34m)\u001b[0m\u001b[0;34m\u001b[0m\u001b[0;34m\u001b[0m\u001b[0m\n\u001b[0m\u001b[1;32m    114\u001b[0m             \u001b[0;32mexcept\u001b[0m \u001b[0mValueError\u001b[0m\u001b[0;34m:\u001b[0m\u001b[0;34m\u001b[0m\u001b[0;34m\u001b[0m\u001b[0m\n\u001b[1;32m    115\u001b[0m                 \u001b[0minfo\u001b[0m \u001b[0;34m=\u001b[0m \u001b[0mcreate_info\u001b[0m\u001b[0;34m(\u001b[0m\u001b[0mch_names\u001b[0m\u001b[0;34m,\u001b[0m \u001b[0msfreq\u001b[0m\u001b[0;34m,\u001b[0m \u001b[0mch_types\u001b[0m\u001b[0;34m)\u001b[0m\u001b[0;34m\u001b[0m\u001b[0;34m\u001b[0m\u001b[0m\n",
      "\u001b[0;32m</anaconda3/envs/zen_env/lib/python3.7/site-packages/mne/externals/decorator.py:decorator-gen-27>\u001b[0m in \u001b[0;36mcreate_info\u001b[0;34m(ch_names, sfreq, ch_types, montage, verbose)\u001b[0m\n",
      "\u001b[0;32m/anaconda3/envs/zen_env/lib/python3.7/site-packages/mne/utils/_logging.py\u001b[0m in \u001b[0;36mwrapper\u001b[0;34m(*args, **kwargs)\u001b[0m\n\u001b[1;32m     87\u001b[0m             \u001b[0;32mwith\u001b[0m \u001b[0muse_log_level\u001b[0m\u001b[0;34m(\u001b[0m\u001b[0mverbose_level\u001b[0m\u001b[0;34m)\u001b[0m\u001b[0;34m:\u001b[0m\u001b[0;34m\u001b[0m\u001b[0;34m\u001b[0m\u001b[0m\n\u001b[1;32m     88\u001b[0m                 \u001b[0;32mreturn\u001b[0m \u001b[0mfunction\u001b[0m\u001b[0;34m(\u001b[0m\u001b[0;34m*\u001b[0m\u001b[0margs\u001b[0m\u001b[0;34m,\u001b[0m \u001b[0;34m**\u001b[0m\u001b[0mkwargs\u001b[0m\u001b[0;34m)\u001b[0m\u001b[0;34m\u001b[0m\u001b[0;34m\u001b[0m\u001b[0m\n\u001b[0;32m---> 89\u001b[0;31m         \u001b[0;32mreturn\u001b[0m \u001b[0mfunction\u001b[0m\u001b[0;34m(\u001b[0m\u001b[0;34m*\u001b[0m\u001b[0margs\u001b[0m\u001b[0;34m,\u001b[0m \u001b[0;34m**\u001b[0m\u001b[0mkwargs\u001b[0m\u001b[0;34m)\u001b[0m\u001b[0;34m\u001b[0m\u001b[0;34m\u001b[0m\u001b[0m\n\u001b[0m\u001b[1;32m     90\u001b[0m     return FunctionMaker.create(\n\u001b[1;32m     91\u001b[0m         \u001b[0mfunction\u001b[0m\u001b[0;34m,\u001b[0m \u001b[0;34m'return decfunc(%(signature)s)'\u001b[0m\u001b[0;34m,\u001b[0m\u001b[0;34m\u001b[0m\u001b[0;34m\u001b[0m\u001b[0m\n",
      "\u001b[0;32m/anaconda3/envs/zen_env/lib/python3.7/site-packages/mne/io/meas_info.py\u001b[0m in \u001b[0;36mcreate_info\u001b[0;34m(ch_names, sfreq, ch_types, montage, verbose)\u001b[0m\n\u001b[1;32m   1912\u001b[0m         \u001b[0;32mif\u001b[0m \u001b[0mkind\u001b[0m \u001b[0;32mnot\u001b[0m \u001b[0;32min\u001b[0m \u001b[0m_kind_dict\u001b[0m\u001b[0;34m:\u001b[0m\u001b[0;34m\u001b[0m\u001b[0;34m\u001b[0m\u001b[0m\n\u001b[1;32m   1913\u001b[0m             raise KeyError('kind must be one of %s, not %s'\n\u001b[0;32m-> 1914\u001b[0;31m                            % (list(_kind_dict.keys()), kind))\n\u001b[0m\u001b[1;32m   1915\u001b[0m         \u001b[0mkind\u001b[0m \u001b[0;34m=\u001b[0m \u001b[0m_kind_dict\u001b[0m\u001b[0;34m[\u001b[0m\u001b[0mkind\u001b[0m\u001b[0;34m]\u001b[0m\u001b[0;34m\u001b[0m\u001b[0;34m\u001b[0m\u001b[0m\n\u001b[1;32m   1916\u001b[0m         chan_info = dict(loc=np.full(12, np.nan), unit_mul=0, range=1., cal=1.,\n",
      "\u001b[0;31mKeyError\u001b[0m: \"kind must be one of ['eeg', 'mag', 'grad', 'ref_meg', 'misc', 'stim', 'eog', 'ecg', 'emg', 'seeg', 'bio', 'ecog', 'hbo', 'hbr'], not EEG\""
     ]
    }
   ],
   "source": [
    "plt.ion()  # make plot interactive\n",
    "_, ax = plt.subplots(1)\n",
    "with LSLClient(host=\"openbci_eeg_id93\", wait_max=wait_max) as client:\n",
    "    print(client)\n",
    "#     client_info = client.get_measurement_info()\n",
    "#     sfreq = int(client_info['sfreq'])\n",
    "#     print(client_info)\n",
    "\n",
    "#     # let's observe ten seconds of data\n",
    "#     for ii in range(10):\n",
    "#         plt.cla()\n",
    "#         epoch = client.get_data_as_epoch(n_samples=sfreq)\n",
    "#         epoch.average().plot(axes=ax)\n",
    "#         plt.pause(1)\n",
    "plt.draw()\n",
    "# Let's terminate the mock LSL stream\n",
    "stream.stop()"
   ]
  },
  {
   "cell_type": "code",
   "execution_count": null,
   "metadata": {},
   "outputs": [],
   "source": []
  }
 ],
 "metadata": {
  "kernelspec": {
   "display_name": "Python 3",
   "language": "python",
   "name": "python3"
  },
  "language_info": {
   "codemirror_mode": {
    "name": "ipython",
    "version": 3
   },
   "file_extension": ".py",
   "mimetype": "text/x-python",
   "name": "python",
   "nbconvert_exporter": "python",
   "pygments_lexer": "ipython3",
   "version": "3.7.4"
  }
 },
 "nbformat": 4,
 "nbformat_minor": 4
}
